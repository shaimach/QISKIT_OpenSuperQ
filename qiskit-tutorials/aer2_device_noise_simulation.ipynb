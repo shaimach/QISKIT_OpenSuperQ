{
 "cells": [
  {
   "cell_type": "markdown",
   "metadata": {},
   "source": [
    "<img src=\"../../../images/qiskit_header.png\" alt=\"Note: In order for images to show up in this jupyter notebook you need to select File => Trusted Notebook\" align=\"middle\">"
   ]
  },
  {
   "cell_type": "markdown",
   "metadata": {},
   "source": [
    "# Qiskit Aer: Device noise model simulations\n",
    "\n",
    "The latest version of this notebook is available on https://github.com/Qiskit/qiskit-tutorials."
   ]
  },
  {
   "cell_type": "markdown",
   "metadata": {},
   "source": [
    "## Introduction\n",
    "\n",
    "This notebook shows how to use the Qiskit Aer `noise.device` module to automatically generate a noise model for an IBMQ hardware device, and use this model to do noisy simulation of `QuantumCircuits` to study the effects of errors which occur on real devices.\n",
    "\n",
    "Note that these automatic models are only a highly simplified approximation of the real errors that occur on actual devices. The study of quantum errors on real devices is an active area of research and we discuss the Qiskit Aer tools for configuring more detailed noise models in another notebook."
   ]
  },
  {
   "cell_type": "code",
   "execution_count": 1,
   "metadata": {
    "ExecuteTime": {
     "end_time": "2019-08-19T16:57:28.062507Z",
     "start_time": "2019-08-19T16:57:24.202560Z"
    }
   },
   "outputs": [],
   "source": [
    "from qiskit import Aer, IBMQ, execute\n",
    "from qiskit.providers.aer import noise\n",
    "from qiskit import QuantumCircuit, QuantumRegister, ClassicalRegister\n",
    "from qiskit.tools.visualization import plot_histogram\n",
    "from qiskit.tools.monitor import job_monitor"
   ]
  },
  {
   "cell_type": "markdown",
   "metadata": {},
   "source": [
    "## Device noise module\n",
    "\n",
    "The *Qiskit Aer* device noise module contains two functions to automatically generate a simplified noise model for a real device. This model is generated using the calibration information reported in the `BackendProperties` of a device.\n",
    "\n",
    "### IBMQ Provider\n",
    "\n",
    "We will use a real hardware device in the `IBMQ` provider as an example. First we must load our account credentials, and then select a backend from the provider."
   ]
  },
  {
   "cell_type": "code",
   "execution_count": 2,
   "metadata": {
    "ExecuteTime": {
     "end_time": "2019-08-19T16:57:31.724630Z",
     "start_time": "2019-08-19T16:57:28.076074Z"
    }
   },
   "outputs": [
    {
     "data": {
      "text/plain": [
       "[<IBMQSimulator('ibmq_qasm_simulator') from IBMQ(hub='ibm-q', group='open', project='main')>,\n",
       " <IBMQBackend('ibmqx4') from IBMQ(hub='ibm-q', group='open', project='main')>,\n",
       " <IBMQBackend('ibmqx2') from IBMQ(hub='ibm-q', group='open', project='main')>,\n",
       " <IBMQBackend('ibmq_16_melbourne') from IBMQ(hub='ibm-q', group='open', project='main')>]"
      ]
     },
     "execution_count": 2,
     "metadata": {},
     "output_type": "execute_result"
    }
   ],
   "source": [
    "# Load IBMQ account\n",
    "provider = IBMQ.load_account()\n",
    "provider.backends()"
   ]
  },
  {
   "cell_type": "markdown",
   "metadata": {},
   "source": [
    "We will use the `ibmq_16_melbourne` device for this tutorial. We may get the properties of the backend using the `properties` method, the information in the returned `BackendProperties` object will be used to automatically generate a noise model for the device that can be used by the Qiskit Aer `QasmSimulator`. We will also want to get the `coupling_map` for the device from its `configuration` to use when compiling circuits for simulation to most closely mimic the gates that will be executed on a real device"
   ]
  },
  {
   "cell_type": "code",
   "execution_count": 4,
   "metadata": {
    "ExecuteTime": {
     "end_time": "2019-08-19T16:57:32.162207Z",
     "start_time": "2019-08-19T16:57:32.159466Z"
    }
   },
   "outputs": [],
   "source": [
    "device = provider.get_backend('ibmq_16_melbourne')\n",
    "properties = device.properties()\n",
    "coupling_map = device.configuration().coupling_map"
   ]
  },
  {
   "cell_type": "markdown",
   "metadata": {},
   "source": [
    "### Test circuit for device and simulation comparison\n",
    "\n",
    "Now we construct a test circuit to compare the output of the real device with the noisy output simulated on the Qiskit Aer `QasmSimulator`. We will prepare a 3-qubit GHZ state $\\frac{1}{2}(|0,0,0\\rangle + |1,1,1\\rangle)$ on qubits 0, 1 and 2. Before running with noise or on the device we show the ideal expected output with no noise."
   ]
  },
  {
   "cell_type": "code",
   "execution_count": 5,
   "metadata": {
    "ExecuteTime": {
     "end_time": "2019-08-19T16:57:32.330124Z",
     "start_time": "2019-08-19T16:57:32.175615Z"
    }
   },
   "outputs": [
    {
     "data": {
      "image/png": "[encoded data removed]",
      "text/plain": [
       "<Figure size 504x360 with 1 Axes>"
      ]
     },
     "execution_count": 5,
     "metadata": {},
     "output_type": "execute_result"
    }
   ],
   "source": [
    "# Construct quantum circuit\n",
    "circ = QuantumCircuit(3, 3)\n",
    "circ.h(0)\n",
    "circ.cx(0, 1)\n",
    "circ.cx(1, 2)\n",
    "circ.measure([0,1,2], range(3))  # Can use list or generator like `range`.\n",
    "\n",
    "# Select the QasmSimulator from the Aer provider\n",
    "simulator = Aer.get_backend('qasm_simulator')\n",
    "\n",
    "# Execute and get counts\n",
    "result = execute(circ, simulator).result()\n",
    "counts = result.get_counts(circ)\n",
    "plot_histogram(counts, title='Ideal counts for 3-qubit GHZ state')"
   ]
  },
  {
   "cell_type": "markdown",
   "metadata": {},
   "source": [
    "## Generating a device noise model\n",
    "\n",
    "Noise models in Qiskit Aer are presented using the `NoiseModel` object from the `aer.noise` module. The function we will use is the `basic_device_noise_model` function from `aer.noise.device` module which will return a basic approximate `NoiseModel` object configured from a device `BackendProperties`.\n",
    "\n",
    "### Basic device noise model\n",
    "\n",
    "The `basic_device_noise_model` constructs an approximate noise model consisting of:\n",
    "\n",
    "* **Single-qubit gate errors** consisting of a single qubit depolarizing error followed by a single qubit thermal relaxation error.\n",
    "* **Two-qubit gate errors** consisting of a two-qubit depolarizing error followed by single-qubit thermal relaxation errors on both qubits in the gate.\n",
    "* **Single-qubit readout errors** on the classical bit value obtained from measurements on individual qubits\n",
    "\n",
    "For the gate errors the error parameter of the thermal relaxation errors is derived using the `thermal_relaxation_error` function from `aer.noise.errors` module, along with the individual qubit $T_1$ and $T_2$ parameters, and the `gate_time` parameter from the device backend properties. The probability of the depolarizing error is then set so that the combined average gate infidelity from the depolarizing error followed by the thermal relaxation is equal to the `gate_error` value from the backend properties.\n",
    "\n",
    "For the readout errors the probability that the recorded classical bit value will be flipped from the true outcome after a measurement is given by the qubit `readout_errors`.\n",
    "\n",
    "Let us construct the device noise model.\n",
    "\n",
    "**Note:** *Since the devices don't currently provide the gate times for gates we will manually provide them for the gates we are interested in using the optional `gate_times` argument for `basic_device_noise_model`.*"
   ]
  },
  {
   "cell_type": "code",
   "execution_count": 6,
   "metadata": {
    "ExecuteTime": {
     "end_time": "2019-08-19T16:57:34.232936Z",
     "start_time": "2019-08-19T16:57:34.125212Z"
    }
   },
   "outputs": [
    {
     "name": "stdout",
     "output_type": "stream",
     "text": [
      "NoiseModel:\n",
      "  Basis gates: ['cx', 'id', 'u2', 'u3']\n",
      "  Instructions with noise: ['cx', 'u2', 'measure', 'u3']\n",
      "  Qubits with noise: [0, 1, 2, 3, 4, 5, 6, 7, 8, 9, 10, 11, 12, 13]\n",
      "  Specific qubit errors: [('u2', [0]), ('u2', [1]), ('u2', [2]), ('u2', [3]), ('u2', [4]), ('u2', [5]), ('u2', [6]), ('u2', [7]), ('u2', [8]), ('u2', [9]), ('u2', [10]), ('u2', [11]), ('u2', [12]), ('u2', [13]), ('u3', [0]), ('u3', [1]), ('u3', [2]), ('u3', [3]), ('u3', [4]), ('u3', [5]), ('u3', [6]), ('u3', [7]), ('u3', [8]), ('u3', [9]), ('u3', [10]), ('u3', [11]), ('u3', [12]), ('u3', [13]), ('cx', [1, 0]), ('cx', [1, 2]), ('cx', [2, 3]), ('cx', [4, 3]), ('cx', [4, 10]), ('cx', [5, 4]), ('cx', [5, 6]), ('cx', [5, 9]), ('cx', [6, 8]), ('cx', [7, 8]), ('cx', [9, 8]), ('cx', [9, 10]), ('cx', [11, 3]), ('cx', [11, 10]), ('cx', [11, 12]), ('cx', [12, 2]), ('cx', [13, 1]), ('cx', [13, 12]), ('measure', [0]), ('measure', [1]), ('measure', [2]), ('measure', [3]), ('measure', [4]), ('measure', [5]), ('measure', [6]), ('measure', [7]), ('measure', [8]), ('measure', [9]), ('measure', [10]), ('measure', [11]), ('measure', [12]), ('measure', [13])]\n"
     ]
    }
   ],
   "source": [
    "# List of gate times for ibmq_14_melbourne device\n",
    "# Note that the None parameter for u1, u2, u3 is because gate\n",
    "# times are the same for all qubits\n",
    "gate_times = [\n",
    "    ('u1', None, 0), ('u2', None, 100), ('u3', None, 200),\n",
    "    ('cx', [1, 0], 678), ('cx', [1, 2], 547), ('cx', [2, 3], 721),\n",
    "    ('cx', [4, 3], 733), ('cx', [4, 10], 721), ('cx', [5, 4], 800),\n",
    "    ('cx', [5, 6], 800), ('cx', [5, 9], 895), ('cx', [6, 8], 895),\n",
    "    ('cx', [7, 8], 640), ('cx', [9, 8], 895), ('cx', [9, 10], 800),\n",
    "    ('cx', [11, 10], 721), ('cx', [11, 3], 634), ('cx', [12, 2], 773),\n",
    "    ('cx', [13, 1], 2286), ('cx', [13, 12], 1504), ('cx', [], 800)\n",
    "]\n",
    "\n",
    "# Construct the noise model from backend properties\n",
    "# and custom gate times\n",
    "noise_model = noise.device.basic_device_noise_model(properties, gate_times=gate_times)\n",
    "print(noise_model)"
   ]
  },
  {
   "cell_type": "markdown",
   "metadata": {},
   "source": [
    "## Simulating a quantum circuit with noise\n",
    "\n",
    "To use this noise model we must make use of several keyword arguments in the `execute` function. These are:\n",
    "\n",
    "* `noise_model`: This passes the noise model to the `QasmSimulator.run` method for noisy simulation.\n",
    "* `basis_gates`: A noise model is defined with respect to specific gates, we must pass these basis gates to the Qiskit compiler so that it compiles the circuit to the correct gates for the noise model. The basis gates of a noise model may be obtained from the `NoiseModel.basis_gates` property.\n",
    "* `coupling_map`: We also must make sure we provide the `coupling_map` for the real device so that the compiler will produce a Qobj for the simulator that will match the compiled experiment that can be executed on the real device.\n",
    "\n",
    "### Local Simulator"
   ]
  },
  {
   "cell_type": "code",
   "execution_count": 7,
   "metadata": {
    "ExecuteTime": {
     "end_time": "2019-08-19T16:57:36.864987Z",
     "start_time": "2019-08-19T16:57:36.672055Z"
    }
   },
   "outputs": [
    {
     "data": {
      "image/png": "[encoded data removed]",
      "text/plain": [
       "<Figure size 504x360 with 1 Axes>"
      ]
     },
     "execution_count": 7,
     "metadata": {},
     "output_type": "execute_result"
    }
   ],
   "source": [
    "# Get the basis gates for the noise model\n",
    "basis_gates = noise_model.basis_gates\n",
    "\n",
    "# Select the QasmSimulator from the Aer provider\n",
    "simulator = Aer.get_backend('qasm_simulator')\n",
    "\n",
    "# Execute noisy simulation and get counts\n",
    "result_noise = execute(circ, simulator, \n",
    "                       noise_model=noise_model,\n",
    "                       coupling_map=coupling_map,\n",
    "                       basis_gates=basis_gates).result()\n",
    "counts_noise = result_noise.get_counts(circ)\n",
    "plot_histogram(counts_noise, title=\"Counts for 3-qubit GHZ state with depolarizing noise model\")"
   ]
  },
  {
   "cell_type": "markdown",
   "metadata": {},
   "source": [
    "### Cloud Simulator\n",
    "\n",
    "It is also possible to run noisy simulations on the `ibmq_qasm_simulator`, which is hosted online, and is part of the `IBMQ` provider."
   ]
  },
  {
   "cell_type": "code",
   "execution_count": 8,
   "metadata": {
    "ExecuteTime": {
     "end_time": "2019-08-19T16:57:46.160483Z",
     "start_time": "2019-08-19T16:57:38.913520Z"
    }
   },
   "outputs": [
    {
     "data": {
      "image/png": "[encoded data removed]",
      "text/plain": [
       "<Figure size 504x360 with 1 Axes>"
      ]
     },
     "execution_count": 8,
     "metadata": {},
     "output_type": "execute_result"
    }
   ],
   "source": [
    "# Select the ibmq_qasm_simulator from the IBMQ provider\n",
    "simulator = provider.get_backend('ibmq_qasm_simulator')\n",
    "\n",
    "# Execute noisy simulation and get counts\n",
    "result_noise = execute(circ, simulator, \n",
    "                       noise_model=noise_model,\n",
    "                       coupling_map=coupling_map,\n",
    "                       basis_gates=basis_gates).result()\n",
    "counts_noise = result_noise.get_counts(circ)\n",
    "plot_histogram(counts_noise, title=\"3-qubit GHZ state with depolarizing noise model on IBMQ qasm simulator\")"
   ]
  },
  {
   "cell_type": "markdown",
   "metadata": {},
   "source": [
    "## Comparison to the real device\n",
    "\n",
    "Now we will execute the circuit on the real device to see the effect of the actual noise processes on the output counts. Note that this execution may take some time to return the results."
   ]
  },
  {
   "cell_type": "code",
   "execution_count": null,
   "metadata": {
    "ExecuteTime": {
     "end_time": "2019-08-19T17:12:16.614580Z",
     "start_time": "2019-08-19T16:57:46.194353Z"
    },
    "scrolled": true
   },
   "outputs": [],
   "source": [
    "# Submit job to real device and wait for results\n",
    "job_device = execute(circ, device)\n",
    "job_monitor(job_device)"
   ]
  },
  {
   "cell_type": "code",
   "execution_count": null,
   "metadata": {
    "ExecuteTime": {
     "end_time": "2019-08-19T17:12:16.619630Z",
     "start_time": "2019-08-19T16:57:41.471Z"
    }
   },
   "outputs": [],
   "source": [
    "# Get results from completed execution\n",
    "result_device = job_device.result()\n",
    "counts_device = result_device.get_counts(0)\n",
    "plot_histogram(counts_device, title='Counts for 3-qubit GHZ state on IBMQ device: {}'.format(device.name()))"
   ]
  },
  {
   "cell_type": "markdown",
   "metadata": {},
   "source": [
    "You might notice that the counts returned in the above histogram don't look exactly like our simulation. This is because the real errors that happen on a device can be very complicated, and characterizing them to create accurate models is an active area of quantum computing research. The *basic device noise model* we used for our simulation is a simplified error model that only takes into account *local* errors occurring on the qubits participating in each individual gate, and treats the errors as a relaxation process combined with an error operation which acts to randomize the state of the qubit with some probability *p* (the depolarizing probability). While this model is an approximation, due to its simplicity it is a useful starting point for studying the effects of noise on quantum computations."
   ]
  },
  {
   "cell_type": "markdown",
   "metadata": {},
   "source": [
    "For those who'd like to know what these noise model look like, here is one printed as a dictionary."
   ]
  },
  {
   "cell_type": "code",
   "execution_count": 9,
   "metadata": {
    "scrolled": false
   },
   "outputs": [
    {
     "name": "stdout",
     "output_type": "stream",
     "text": [
      "{'errors': [{'type': 'qerror', 'operations': ['u2'], 'instructions': [[{'name': 'id', 'qubits': [0]}], [{'name': 'z', 'qubits': [0]}], [{'name': 'reset', 'qubits': [0]}]], 'probabilities': [0.9969396316915222, 0.0015878972318940962, 0.001472471076583659], 'gate_qubits': [[0]]}, {'type': 'qerror', 'operations': ['u2'], 'instructions': [[{'name': 'kraus', 'qubits': [0], 'params': [array([[0.99990007, 0.        ],\n",
      "       [0.        , 0.99894197]]), array([[-0.01413701,  0.        ],\n",
      "       [ 0.        ,  0.01415057]]), array([[0.        , 0.04375727],\n",
      "       [0.        , 0.        ]])]}]], 'probabilities': [1], 'gate_qubits': [[1]]}, {'type': 'qerror', 'operations': ['u2'], 'instructions': [[{'name': 'kraus', 'qubits': [0], 'params': [array([[0.99994709, 0.        ],\n",
      "       [0.        , 0.99925542]]), array([[-0.01028703,  0.        ],\n",
      "       [ 0.        ,  0.01029415]]), array([[0.        , 0.03718377],\n",
      "       [0.        , 0.        ]])]}]], 'probabilities': [1], 'gate_qubits': [[2]]}, {'type': 'qerror', 'operations': ['u2'], 'instructions': [[{'name': 'kraus', 'qubits': [0], 'params': [array([[0.99986217, 0.        ],\n",
      "       [0.        , 0.99913969]]), array([[-0.0166022,  0.       ],\n",
      "       [ 0.       ,  0.0166142]]), array([[0.        , 0.03799813],\n",
      "       [0.        , 0.        ]])]}]], 'probabilities': [1], 'gate_qubits': [[3]]}, {'type': 'qerror', 'operations': ['u2'], 'instructions': [[{'name': 'id', 'qubits': [0]}], [{'name': 'z', 'qubits': [0]}], [{'name': 'reset', 'qubits': [0]}]], 'probabilities': [0.9979199991897366, 0.000530684168841692, 0.0015493166414216608], 'gate_qubits': [[4]]}, {'type': 'qerror', 'operations': ['u2'], 'instructions': [[{'name': 'kraus', 'qubits': [0], 'params': [array([[1.        , 0.        ],\n",
      "       [0.        , 0.99785794]]), array([[0.        , 0.06541808],\n",
      "       [0.        , 0.        ]])]}]], 'probabilities': [1], 'gate_qubits': [[5]]}, {'type': 'qerror', 'operations': ['u2'], 'instructions': [[{'name': 'id', 'qubits': [0]}], [{'name': 'z', 'qubits': [0]}], [{'name': 'reset', 'qubits': [0]}]], 'probabilities': [0.9982046687483329, 0.000339407670128993, 0.001455923581538121], 'gate_qubits': [[6]]}, {'type': 'qerror', 'operations': ['u2'], 'instructions': [[{'name': 'kraus', 'qubits': [0], 'params': [array([[1.        , 0.        ],\n",
      "       [0.        , 0.99884553]]), array([[0.        , 0.04803762],\n",
      "       [0.        , 0.        ]])]}]], 'probabilities': [1], 'gate_qubits': [[7]]}, {'type': 'qerror', 'operations': ['u2'], 'instructions': [[{'name': 'id', 'qubits': [0]}], [{'name': 'z', 'qubits': [0]}], [{'name': 'reset', 'qubits': [0]}]], 'probabilities': [0.9982498630343064, 0.00013334675861594622, 0.001616790207077612], 'gate_qubits': [[8]]}, {'type': 'qerror', 'operations': ['u2'], 'instructions': [[{'name': 'kraus', 'qubits': [0], 'params': [array([[1.        , 0.        ],\n",
      "       [0.        , 0.99872734]]), array([[0.        , 0.05043514],\n",
      "       [0.        , 0.        ]])]}]], 'probabilities': [1], 'gate_qubits': [[9]]}, {'type': 'qerror', 'operations': ['u2'], 'instructions': [[{'name': 'kraus', 'qubits': [0], 'params': [array([[0.99986623, 0.        ],\n",
      "       [0.        , 0.99908843]]), array([[-0.01635625,  0.        ],\n",
      "       [ 0.        ,  0.01636898]]), array([[0.        , 0.03942552],\n",
      "       [0.        , 0.        ]])]}]], 'probabilities': [1], 'gate_qubits': [[10]]}, {'type': 'qerror', 'operations': ['u2'], 'instructions': [[{'name': 'kraus', 'qubits': [0], 'params': [array([[0.99990561, 0.        ],\n",
      "       [0.        , 0.99911444]]), array([[-0.01373927,  0.        ],\n",
      "       [ 0.        ,  0.01375015]]), array([[0.        , 0.03976508],\n",
      "       [0.        , 0.        ]])]}]], 'probabilities': [1], 'gate_qubits': [[11]]}, {'type': 'qerror', 'operations': ['u2'], 'instructions': [[{'name': 'kraus', 'qubits': [0], 'params': [array([[0.99997475, 0.        ],\n",
      "       [0.        , 0.99925175]]), array([[-0.00710566,  0.        ],\n",
      "       [ 0.        ,  0.00711081]]), array([[0.        , 0.03801801],\n",
      "       [0.        , 0.        ]])]}]], 'probabilities': [1], 'gate_qubits': [[12]]}, {'type': 'qerror', 'operations': ['u2'], 'instructions': [[{'name': 'kraus', 'qubits': [0], 'params': [array([[0.99992623, 0.        ],\n",
      "       [0.        , 0.99812104]]), array([[-0.01214615,  0.        ],\n",
      "       [ 0.        ,  0.01216811]]), array([[0.       , 0.0600527],\n",
      "       [0.       , 0.       ]])]}]], 'probabilities': [1], 'gate_qubits': [[13]]}, {'type': 'qerror', 'operations': ['u3'], 'instructions': [[{'name': 'id', 'qubits': [0]}], [{'name': 'z', 'qubits': [0]}], [{'name': 'reset', 'qubits': [0]}]], 'probabilities': [0.993891150654847, 0.003166075363056994, 0.0029427739820959697], 'gate_qubits': [[0]]}, {'type': 'qerror', 'operations': ['u3'], 'instructions': [[{'name': 'kraus', 'qubits': [0], 'params': [array([[0.99980055, 0.        ],\n",
      "       [0.        , 0.9978847 ]]), array([[-0.01997156,  0.        ],\n",
      "       [ 0.        ,  0.02000991]]), array([[0.       , 0.0618525],\n",
      "       [0.       , 0.       ]])]}]], 'probabilities': [1], 'gate_qubits': [[1]]}, {'type': 'qerror', 'operations': ['u3'], 'instructions': [[{'name': 'kraus', 'qubits': [0], 'params': [array([[0.99989433, 0.        ],\n",
      "       [0.        , 0.99851126]]), array([[-0.01453721,  0.        ],\n",
      "       [ 0.        ,  0.01455735]]), array([[0.        , 0.05256761],\n",
      "       [0.        , 0.        ]])]}]], 'probabilities': [1], 'gate_qubits': [[2]]}, {'type': 'qerror', 'operations': ['u3'], 'instructions': [[{'name': 'kraus', 'qubits': [0], 'params': [array([[0.9997248 , 0.        ],\n",
      "       [0.        , 0.99827975]]), array([[-0.02345883,  0.        ],\n",
      "       [ 0.        ,  0.02349279]]), array([[0.        , 0.05371807],\n",
      "       [0.        , 0.        ]])]}]], 'probabilities': [1], 'gate_qubits': [[3]]}, {'type': 'qerror', 'operations': ['u3'], 'instructions': [[{'name': 'id', 'qubits': [0]}], [{'name': 'z', 'qubits': [0]}], [{'name': 'reset', 'qubits': [0]}]], 'probabilities': [0.995844606408531, 0.0010591606906810173, 0.0030962329007879763], 'gate_qubits': [[4]]}, {'type': 'qerror', 'operations': ['u3'], 'instructions': [[{'name': 'kraus', 'qubits': [0], 'params': [array([[1.        , 0.        ],\n",
      "       [0.        , 0.99572047]]), array([[0.       , 0.0924161],\n",
      "       [0.       , 0.       ]])]}]], 'probabilities': [1], 'gate_qubits': [[5]]}, {'type': 'qerror', 'operations': ['u3'], 'instructions': [[{'name': 'id', 'qubits': [0]}], [{'name': 'z', 'qubits': [0]}], [{'name': 'reset', 'qubits': [0]}]], 'probabilities': [0.9964126759085354, 0.0006775966418634875, 0.0029097274496010517], 'gate_qubits': [[6]]}, {'type': 'qerror', 'operations': ['u3'], 'instructions': [[{'name': 'kraus', 'qubits': [0], 'params': [array([[1.        , 0.        ],\n",
      "       [0.        , 0.99769239]]), array([[0.        , 0.06789625],\n",
      "       [0.        , 0.        ]])]}]], 'probabilities': [1], 'gate_qubits': [[7]]}, {'type': 'qerror', 'operations': ['u3'], 'instructions': [[{'name': 'id', 'qubits': [0]}], [{'name': 'z', 'qubits': [0]}], [{'name': 'reset', 'qubits': [0]}]], 'probabilities': [0.9965028068293694, 0.00026622676704887835, 0.00323096640358167], 'gate_qubits': [[8]]}, {'type': 'qerror', 'operations': ['u3'], 'instructions': [[{'name': 'kraus', 'qubits': [0], 'params': [array([[1.       , 0.       ],\n",
      "       [0.       , 0.9974563]]), array([[0.        , 0.07128069],\n",
      "       [0.        , 0.        ]])]}]], 'probabilities': [1], 'gate_qubits': [[9]]}, {'type': 'qerror', 'operations': ['u3'], 'instructions': [[{'name': 'kraus', 'qubits': [0], 'params': [array([[0.99973293, 0.        ],\n",
      "       [0.        , 0.9981773 ]]), array([[-0.02311011,  0.        ],\n",
      "       [ 0.        ,  0.02314613]]), array([[0.        , 0.05573443],\n",
      "       [0.        , 0.        ]])]}]], 'probabilities': [1], 'gate_qubits': [[10]]}, {'type': 'qerror', 'operations': ['u3'], 'instructions': [[{'name': 'kraus', 'qubits': [0], 'params': [array([[0.99981155, 0.        ],\n",
      "       [0.        , 0.99822939]]), array([[-0.01941303,  0.        ],\n",
      "       [ 0.        ,  0.0194438 ]]), array([[0.        , 0.05621408],\n",
      "       [0.        , 0.        ]])]}]], 'probabilities': [1], 'gate_qubits': [[11]]}, {'type': 'qerror', 'operations': ['u3'], 'instructions': [[{'name': 'kraus', 'qubits': [0], 'params': [array([[0.99994958, 0.        ],\n",
      "       [0.        , 0.998504  ]]), array([[-0.0100414 ,  0.        ],\n",
      "       [ 0.        ,  0.01005594]]), array([[0.        , 0.05374615],\n",
      "       [0.        , 0.        ]])]}]], 'probabilities': [1], 'gate_qubits': [[12]]}, {'type': 'qerror', 'operations': ['u3'], 'instructions': [[{'name': 'kraus', 'qubits': [0], 'params': [array([[0.99985302, 0.        ],\n",
      "       [0.        , 0.99624509]]), array([[-0.01714487,  0.        ],\n",
      "       [ 0.        ,  0.01720697]]), array([[0.        , 0.08485074],\n",
      "       [0.        , 0.        ]])]}]], 'probabilities': [1], 'gate_qubits': [[13]]}, {'type': 'qerror', 'operations': ['cx'], 'instructions': [[{'name': 'kraus', 'qubits': [0], 'params': [array([[0.99933055, 0.        ],\n",
      "       [0.        , 0.99284135]]), array([[-0.03658498,  0.        ],\n",
      "       [ 0.        ,  0.0368241 ]]), array([[0.        , 0.11362238],\n",
      "       [0.        , 0.        ]])]}, {'name': 'id', 'qubits': [1]}], [{'name': 'kraus', 'qubits': [0], 'params': [array([[0.99933055, 0.        ],\n",
      "       [0.        , 0.99284135]]), array([[-0.03658498,  0.        ],\n",
      "       [ 0.        ,  0.0368241 ]]), array([[0.        , 0.11362238],\n",
      "       [0.        , 0.        ]])]}, {'name': 'z', 'qubits': [1]}], [{'name': 'kraus', 'qubits': [0], 'params': [array([[0.99933055, 0.        ],\n",
      "       [0.        , 0.99284135]]), array([[-0.03658498,  0.        ],\n",
      "       [ 0.        ,  0.0368241 ]]), array([[0.        , 0.11362238],\n",
      "       [0.        , 0.        ]])]}, {'name': 'reset', 'qubits': [1]}]], 'probabilities': [0.9794820138009688, 0.01057701634367594, 0.009940969855355308], 'gate_qubits': [[1, 0]]}, {'type': 'qerror', 'operations': ['cx'], 'instructions': [[{'name': 'kraus', 'qubits': [0, 1], 'params': [array([[0.99917103, 0.        , 0.        , 0.        ],\n",
      "       [0.        , 0.99393593, 0.        , 0.        ],\n",
      "       [0.        , 0.        , 0.99539283, 0.        ],\n",
      "       [0.        , 0.        , 0.        , 0.99017752]]), array([[-0.02396617, -0.        ,  0.        ,  0.        ],\n",
      "       [-0.        , -0.0238406 ,  0.        ,  0.        ],\n",
      "       [ 0.        ,  0.        ,  0.02405714,  0.        ],\n",
      "       [ 0.        ,  0.        ,  0.        ,  0.02393109]]), array([[0.        , 0.        , 0.08678423, 0.        ],\n",
      "       [0.        , 0.        , 0.        , 0.08632953],\n",
      "       [0.        , 0.        , 0.        , 0.        ],\n",
      "       [0.        , 0.        , 0.        , 0.        ]]), array([[-0.03289754,  0.        , -0.        ,  0.        ],\n",
      "       [ 0.        ,  0.03307082,  0.        ,  0.        ],\n",
      "       [-0.        ,  0.        , -0.03277315,  0.        ],\n",
      "       [ 0.        ,  0.        ,  0.        ,  0.03294576]]), array([[ 0.00078908, -0.        , -0.        ,  0.        ],\n",
      "       [-0.        , -0.00079324,  0.        ,  0.        ],\n",
      "       [-0.        ,  0.        , -0.00079208,  0.        ],\n",
      "       [ 0.        ,  0.        ,  0.        ,  0.00079625]]), array([[-0.        ,  0.        , -0.00285736,  0.        ],\n",
      "       [ 0.        ,  0.        ,  0.        ,  0.00287241],\n",
      "       [-0.        ,  0.        , -0.        ,  0.        ],\n",
      "       [ 0.        ,  0.        ,  0.        ,  0.        ]]), array([[0.        , 0.10209156, 0.        , 0.        ],\n",
      "       [0.        , 0.        , 0.        , 0.        ],\n",
      "       [0.        , 0.        , 0.        , 0.10170552],\n",
      "       [0.        , 0.        , 0.        , 0.        ]]), array([[-0.        , -0.00244877,  0.        ,  0.        ],\n",
      "       [-0.        , -0.        ,  0.        ,  0.        ],\n",
      "       [ 0.        ,  0.        ,  0.        ,  0.00245807],\n",
      "       [ 0.        ,  0.        ,  0.        ,  0.        ]]), array([[0.        , 0.        , 0.        , 0.00886729],\n",
      "       [0.        , 0.        , 0.        , 0.        ],\n",
      "       [0.        , 0.        , 0.        , 0.        ],\n",
      "       [0.        , 0.        , 0.        , 0.        ]])]}]], 'probabilities': [1], 'gate_qubits': [[1, 2]]}, {'type': 'qerror', 'operations': ['cx'], 'instructions': [[{'name': 'kraus', 'qubits': [0, 1], 'params': [array([[0.9986388 , 0.        , 0.        , 0.        ],\n",
      "       [0.        , 0.99366257, 0.        , 0.        ],\n",
      "       [0.        , 0.        , 0.9934299 , 0.        ],\n",
      "       [0.        , 0.        , 0.        , 0.98847963]]), array([[-0.04432392, -0.        ,  0.        ,  0.        ],\n",
      "       [-0.        , -0.04410305,  0.        ,  0.        ],\n",
      "       [ 0.        ,  0.        ,  0.04455633,  0.        ],\n",
      "       [ 0.        ,  0.        ,  0.        ,  0.0443343 ]]), array([[0.        , 0.        , 0.10176358, 0.        ],\n",
      "       [0.        , 0.        , 0.        , 0.10125649],\n",
      "       [0.        , 0.        , 0.        , 0.        ],\n",
      "       [0.        , 0.        , 0.        , 0.        ]]), array([[-0.02746722,  0.        , -0.        ,  0.        ],\n",
      "       [ 0.        ,  0.02760477,  0.        ,  0.        ],\n",
      "       [-0.        ,  0.        , -0.02732395,  0.        ],\n",
      "       [ 0.        ,  0.        ,  0.        ,  0.02746079]]), array([[ 0.00121911, -0.        , -0.        ,  0.        ],\n",
      "       [-0.        , -0.00122522,  0.        ,  0.        ],\n",
      "       [-0.        ,  0.        , -0.00122551,  0.        ],\n",
      "       [ 0.        ,  0.        ,  0.        ,  0.00123164]]), array([[-0.        ,  0.        , -0.00279897,  0.        ],\n",
      "       [ 0.        ,  0.        ,  0.        ,  0.00281299],\n",
      "       [-0.        ,  0.        , -0.        ,  0.        ],\n",
      "       [ 0.        ,  0.        ,  0.        ,  0.        ]]), array([[0.        , 0.09953176, 0.        , 0.        ],\n",
      "       [0.        , 0.        , 0.        , 0.        ],\n",
      "       [0.        , 0.        , 0.        , 0.09901261],\n",
      "       [0.        , 0.        , 0.        , 0.        ]]), array([[-0.        , -0.00441765,  0.        ,  0.        ],\n",
      "       [-0.        , -0.        ,  0.        ,  0.        ],\n",
      "       [ 0.        ,  0.        ,  0.        ,  0.00444081],\n",
      "       [ 0.        ,  0.        ,  0.        ,  0.        ]]), array([[0.        , 0.        , 0.        , 0.01014251],\n",
      "       [0.        , 0.        , 0.        , 0.        ],\n",
      "       [0.        , 0.        , 0.        , 0.        ],\n",
      "       [0.        , 0.        , 0.        , 0.        ]])]}]], 'probabilities': [1], 'gate_qubits': [[2, 3]]}, {'type': 'qerror', 'operations': ['cx'], 'instructions': [[{'name': 'id', 'qubits': [0]}, {'name': 'kraus', 'qubits': [1], 'params': [array([[0.9990003 , 0.        ],\n",
      "       [0.        , 0.99370267]]), array([[-0.0447035 ,  0.        ],\n",
      "       [ 0.        ,  0.04494183]]), array([[0.       , 0.1026413],\n",
      "       [0.       , 0.       ]])]}], [{'name': 'z', 'qubits': [0]}, {'name': 'kraus', 'qubits': [1], 'params': [array([[0.9990003 , 0.        ],\n",
      "       [0.        , 0.99370267]]), array([[-0.0447035 ,  0.        ],\n",
      "       [ 0.        ,  0.04494183]]), array([[0.       , 0.1026413],\n",
      "       [0.       , 0.       ]])]}], [{'name': 'reset', 'qubits': [0]}, {'name': 'kraus', 'qubits': [1], 'params': [array([[0.9990003 , 0.        ],\n",
      "       [0.        , 0.99370267]]), array([[-0.0447035 ,  0.        ],\n",
      "       [ 0.        ,  0.04494183]]), array([[0.       , 0.1026413],\n",
      "       [0.       , 0.       ]])]}]], 'probabilities': [0.9848600556149415, 0.0038389879171262945, 0.011300956467932166], 'gate_qubits': [[4, 3]]}, {'type': 'qerror', 'operations': ['cx'], 'instructions': [[{'name': 'id', 'qubits': [0]}, {'name': 'kraus', 'qubits': [1], 'params': [array([[0.99904602, 0.        ],\n",
      "       [0.        , 0.99343761]]), array([[-0.04366978,  0.        ],\n",
      "       [ 0.        ,  0.04391631]]), array([[0.        , 0.10560812],\n",
      "       [0.        , 0.        ]])]}], [{'name': 'z', 'qubits': [0]}, {'name': 'kraus', 'qubits': [1], 'params': [array([[0.99904602, 0.        ],\n",
      "       [0.        , 0.99343761]]), array([[-0.04366978,  0.        ],\n",
      "       [ 0.        ,  0.04391631]]), array([[0.        , 0.10560812],\n",
      "       [0.        , 0.        ]])]}], [{'name': 'reset', 'qubits': [0]}, {'name': 'kraus', 'qubits': [1], 'params': [array([[0.99904602, 0.        ],\n",
      "       [0.        , 0.99343761]]), array([[-0.04366978,  0.        ],\n",
      "       [ 0.        ,  0.04391631]]), array([[0.        , 0.10560812],\n",
      "       [0.        , 0.        ]])]}]], 'probabilities': [0.9851059372102934, 0.0037770829251414346, 0.011116979864565169], 'gate_qubits': [[4, 10]]}, {'type': 'qerror', 'operations': ['cx'], 'instructions': [[{'name': 'kraus', 'qubits': [0], 'params': [array([[1.        , 0.        ],\n",
      "       [0.        , 0.98299147]]), array([[0.        , 0.18365121],\n",
      "       [0.        , 0.        ]])]}, {'name': 'id', 'qubits': [1]}], [{'name': 'kraus', 'qubits': [0], 'params': [array([[1.        , 0.        ],\n",
      "       [0.        , 0.98299147]]), array([[0.        , 0.18365121],\n",
      "       [0.        , 0.        ]])]}, {'name': 'z', 'qubits': [1]}], [{'name': 'kraus', 'qubits': [0], 'params': [array([[1.        , 0.        ],\n",
      "       [0.        , 0.98299147]]), array([[0.        , 0.18365121],\n",
      "       [0.        , 0.        ]])]}, {'name': 'reset', 'qubits': [1]}]], 'probabilities': [0.9834884178044242, 0.004184051903277553, 0.012327530292298272], 'gate_qubits': [[5, 4]]}, {'type': 'qerror', 'operations': ['cx'], 'instructions': [[{'name': 'kraus', 'qubits': [0], 'params': [array([[1.        , 0.        ],\n",
      "       [0.        , 0.98299147]]), array([[0.        , 0.18365121],\n",
      "       [0.        , 0.        ]])]}, {'name': 'id', 'qubits': [1]}], [{'name': 'kraus', 'qubits': [0], 'params': [array([[1.        , 0.        ],\n",
      "       [0.        , 0.98299147]]), array([[0.        , 0.18365121],\n",
      "       [0.        , 0.        ]])]}, {'name': 'z', 'qubits': [1]}], [{'name': 'kraus', 'qubits': [0], 'params': [array([[1.        , 0.        ],\n",
      "       [0.        , 0.98299147]]), array([[0.        , 0.18365121],\n",
      "       [0.        , 0.        ]])]}, {'name': 'reset', 'qubits': [1]}]], 'probabilities': [0.9857304675990267, 0.002681323216245956, 0.01158820918472736], 'gate_qubits': [[5, 6]]}, {'type': 'qerror', 'operations': ['cx'], 'instructions': [[{'name': 'kraus', 'qubits': [0, 1], 'params': [array([[1.        , 0.        , 0.        , 0.        ],\n",
      "       [0.        , 0.98099102, 0.        , 0.        ],\n",
      "       [0.        , 0.        , 0.98866713, 0.        ],\n",
      "       [0.        , 0.        , 0.        , 0.96987358]]), array([[0.        , 0.        , 0.1501243 , 0.        ],\n",
      "       [0.        , 0.        , 0.        , 0.14727059],\n",
      "       [0.        , 0.        , 0.        , 0.        ],\n",
      "       [0.        , 0.        , 0.        , 0.        ]]), array([[0.        , 0.19405312, 0.        , 0.        ],\n",
      "       [0.        , 0.        , 0.        , 0.        ],\n",
      "       [0.        , 0.        , 0.        , 0.19185394],\n",
      "       [0.        , 0.        , 0.        , 0.        ]]), array([[0.        , 0.        , 0.        , 0.02913209],\n",
      "       [0.        , 0.        , 0.        , 0.        ],\n",
      "       [0.        , 0.        , 0.        , 0.        ],\n",
      "       [0.        , 0.        , 0.        , 0.        ]])]}]], 'probabilities': [1], 'gate_qubits': [[5, 9]]}, {'type': 'qerror', 'operations': ['cx'], 'instructions': [[{'name': 'id', 'qubits': [0]}, {'name': 'id', 'qubits': [1]}], [{'name': 'z', 'qubits': [0]}, {'name': 'id', 'qubits': [1]}], [{'name': 'reset', 'qubits': [0]}, {'name': 'id', 'qubits': [1]}], [{'name': 'id', 'qubits': [0]}, {'name': 'z', 'qubits': [1]}], [{'name': 'z', 'qubits': [0]}, {'name': 'z', 'qubits': [1]}], [{'name': 'reset', 'qubits': [0]}, {'name': 'z', 'qubits': [1]}], [{'name': 'id', 'qubits': [0]}, {'name': 'reset', 'qubits': [1]}], [{'name': 'z', 'qubits': [0]}, {'name': 'reset', 'qubits': [1]}], [{'name': 'reset', 'qubits': [0]}, {'name': 'reset', 'qubits': [1]}]], 'probabilities': [0.9687435497077612, 0.0029480346990249165, 0.012753843344418692, 0.0011581767939954882, 3.5245090172049454e-06, 1.5247797417815618e-05, 0.014148300446601583, 4.30554408970193e-05, 0.00018626726086605702], 'gate_qubits': [[6, 8]]}, {'type': 'qerror', 'operations': ['cx'], 'instructions': [[{'name': 'kraus', 'qubits': [0], 'params': [array([[1.        , 0.        ],\n",
      "       [0.        , 0.99263437]]), array([[0.        , 0.12114873],\n",
      "       [0.        , 0.        ]])]}, {'name': 'id', 'qubits': [1]}], [{'name': 'kraus', 'qubits': [0], 'params': [array([[1.        , 0.        ],\n",
      "       [0.        , 0.99263437]]), array([[0.        , 0.12114873],\n",
      "       [0.        , 0.        ]])]}, {'name': 'z', 'qubits': [1]}], [{'name': 'kraus', 'qubits': [0], 'params': [array([[1.        , 0.        ],\n",
      "       [0.        , 0.99263437]]), array([[0.        , 0.12114873],\n",
      "       [0.        , 0.        ]])]}, {'name': 'reset', 'qubits': [1]}]], 'probabilities': [0.9888522209484151, 0.0008453848645706519, 0.010302394187014285], 'gate_qubits': [[7, 8]]}, {'type': 'qerror', 'operations': ['cx'], 'instructions': [[{'name': 'kraus', 'qubits': [0], 'params': [array([[1.        , 0.        ],\n",
      "       [0.        , 0.98866713]]), array([[0.       , 0.1501243],\n",
      "       [0.       , 0.       ]])]}, {'name': 'id', 'qubits': [1]}], [{'name': 'kraus', 'qubits': [0], 'params': [array([[1.        , 0.        ],\n",
      "       [0.        , 0.98866713]]), array([[0.       , 0.1501243],\n",
      "       [0.       , 0.       ]])]}, {'name': 'z', 'qubits': [1]}], [{'name': 'kraus', 'qubits': [0], 'params': [array([[1.        , 0.        ],\n",
      "       [0.        , 0.98866713]]), array([[0.       , 0.1501243],\n",
      "       [0.       , 0.       ]])]}, {'name': 'reset', 'qubits': [1]}]], 'probabilities': [0.9844454277512048, 0.0011769491004305088, 0.01437762314836466], 'gate_qubits': [[9, 8]]}, {'type': 'qerror', 'operations': ['cx'], 'instructions': [[{'name': 'kraus', 'qubits': [0, 1], 'params': [array([[0.99894297, 0.        , 0.        , 0.        ],\n",
      "       [0.        , 0.98881763, 0.        , 0.        ],\n",
      "       [0.        , 0.        , 0.99271998, 0.        ],\n",
      "       [0.        , 0.        , 0.        , 0.98265771]]), array([[-0.04596665, -0.        ,  0.        ,  0.        ],\n",
      "       [-0.        , -0.04550073,  0.        ,  0.        ],\n",
      "       [ 0.        ,  0.        ,  0.0462548 ,  0.        ],\n",
      "       [ 0.        ,  0.        ,  0.        ,  0.04578596]]), array([[0.        , 0.        , 0.1112094 , 0.        ],\n",
      "       [0.        , 0.        , 0.        , 0.11008218],\n",
      "       [0.        , 0.        , 0.        , 0.        ],\n",
      "       [0.        , 0.        , 0.        , 0.        ]]), array([[0.        , 0.14186881, 0.        , 0.        ],\n",
      "       [0.        , 0.        , 0.        , 0.        ],\n",
      "       [0.        , 0.        , 0.        , 0.14098503],\n",
      "       [0.        , 0.        , 0.        , 0.        ]]), array([[-0.        , -0.00652813,  0.        ,  0.        ],\n",
      "       [-0.        , -0.        ,  0.        ,  0.        ],\n",
      "       [ 0.        ,  0.        ,  0.        ,  0.00656906],\n",
      "       [ 0.        ,  0.        ,  0.        ,  0.        ]]), array([[0.        , 0.        , 0.        , 0.01579384],\n",
      "       [0.        , 0.        , 0.        , 0.        ],\n",
      "       [0.        , 0.        , 0.        , 0.        ],\n",
      "       [0.        , 0.        , 0.        , 0.        ]])]}]], 'probabilities': [1], 'gate_qubits': [[9, 10]]}, {'type': 'qerror', 'operations': ['cx'], 'instructions': [[{'name': 'kraus', 'qubits': [0, 1], 'params': [array([[0.99854149, 0.        , 0.        , 0.        ],\n",
      "       [0.        , 0.99353282, 0.        , 0.        ],\n",
      "       [0.        , 0.        , 0.99396233, 0.        ],\n",
      "       [0.        , 0.        , 0.        , 0.98897663]]), array([[-0.0415862 , -0.        ,  0.        ,  0.        ],\n",
      "       [-0.        , -0.04137761,  0.        ,  0.        ],\n",
      "       [ 0.        ,  0.        ,  0.04177779,  0.        ],\n",
      "       [ 0.        ,  0.        ,  0.        ,  0.04156823]]), array([[0.        , 0.        , 0.09543601, 0.        ],\n",
      "       [0.        , 0.        , 0.        , 0.0949573 ],\n",
      "       [0.        , 0.        , 0.        , 0.        ],\n",
      "       [0.        , 0.        , 0.        , 0.        ]]), array([[-0.0344009 ,  0.        , -0.        ,  0.        ],\n",
      "       [ 0.        ,  0.03457432,  0.        ,  0.        ],\n",
      "       [-0.        ,  0.        , -0.03424314,  0.        ],\n",
      "       [ 0.        ,  0.        ,  0.        ,  0.03441577]]), array([[ 0.00143269, -0.        , -0.        ,  0.        ],\n",
      "       [-0.        , -0.00143991,  0.        ,  0.        ],\n",
      "       [-0.        ,  0.        , -0.00143929,  0.        ],\n",
      "       [ 0.        ,  0.        ,  0.        ,  0.00144655]]), array([[-0.        ,  0.        , -0.00328788,  0.        ],\n",
      "       [ 0.        ,  0.        ,  0.        ,  0.00330445],\n",
      "       [-0.        ,  0.        , -0.        ,  0.        ],\n",
      "       [ 0.        ,  0.        ,  0.        ,  0.        ]]), array([[0.        , 0.09982828, 0.        , 0.        ],\n",
      "       [0.        , 0.        , 0.        , 0.        ],\n",
      "       [0.        , 0.        , 0.        , 0.09937048],\n",
      "       [0.        , 0.        , 0.        , 0.        ]]), array([[-0.        , -0.00415754,  0.        ,  0.        ],\n",
      "       [-0.        , -0.        ,  0.        ,  0.        ],\n",
      "       [ 0.        ,  0.        ,  0.        ,  0.0041767 ],\n",
      "       [ 0.        ,  0.        ,  0.        ,  0.        ]]), array([[0.        , 0.        , 0.        , 0.00954113],\n",
      "       [0.        , 0.        , 0.        , 0.        ],\n",
      "       [0.        , 0.        , 0.        , 0.        ],\n",
      "       [0.        , 0.        , 0.        , 0.        ]])]}]], 'probabilities': [1], 'gate_qubits': [[11, 3]]}, {'type': 'qerror', 'operations': ['cx'], 'instructions': [[{'name': 'kraus', 'qubits': [0, 1], 'params': [array([[0.99837341, 0.        , 0.        , 0.        ],\n",
      "       [0.        , 0.99267848, 0.        , 0.        ],\n",
      "       [0.        , 0.        , 0.99276877, 0.        ],\n",
      "       [0.        , 0.        , 0.        , 0.98710581]]), array([[-0.04364038, -0.        ,  0.        ,  0.        ],\n",
      "       [-0.        , -0.04339144,  0.        ,  0.        ],\n",
      "       [ 0.        ,  0.        ,  0.04388675,  0.        ],\n",
      "       [ 0.        ,  0.        ,  0.        ,  0.04363641]]), array([[0.        , 0.        , 0.10553702, 0.        ],\n",
      "       [0.        , 0.        , 0.        , 0.10493501],\n",
      "       [0.        , 0.        , 0.        , 0.        ],\n",
      "       [0.        , 0.        , 0.        , 0.        ]]), array([[-0.03665367,  0.        , -0.        ,  0.        ],\n",
      "       [ 0.        ,  0.03686395,  0.        ,  0.        ],\n",
      "       [-0.        ,  0.        , -0.03644791,  0.        ],\n",
      "       [ 0.        ,  0.        ,  0.        ,  0.03665701]]), array([[ 0.00160219, -0.        , -0.        ,  0.        ],\n",
      "       [-0.        , -0.00161138,  0.        ,  0.        ],\n",
      "       [-0.        ,  0.        , -0.00161123,  0.        ],\n",
      "       [ 0.        ,  0.        ,  0.        ,  0.00162047]]), array([[-0.        ,  0.        , -0.00387462,  0.        ],\n",
      "       [ 0.        ,  0.        ,  0.        ,  0.00389685],\n",
      "       [-0.        ,  0.        , -0.        ,  0.        ],\n",
      "       [ 0.        ,  0.        ,  0.        ,  0.        ]]), array([[0.        , 0.10641165, 0.        , 0.        ],\n",
      "       [0.        , 0.        , 0.        , 0.        ],\n",
      "       [0.        , 0.        , 0.        , 0.10581428],\n",
      "       [0.        , 0.        , 0.        , 0.        ]]), array([[-0.        , -0.00465141,  0.        ,  0.        ],\n",
      "       [-0.        , -0.        ,  0.        ,  0.        ],\n",
      "       [ 0.        ,  0.        ,  0.        ,  0.00467767],\n",
      "       [ 0.        ,  0.        ,  0.        ,  0.        ]]), array([[0.        , 0.        , 0.        , 0.01124867],\n",
      "       [0.        , 0.        , 0.        , 0.        ],\n",
      "       [0.        , 0.        , 0.        , 0.        ],\n",
      "       [0.        , 0.        , 0.        , 0.        ]])]}]], 'probabilities': [1], 'gate_qubits': [[11, 10]]}, {'type': 'qerror', 'operations': ['cx'], 'instructions': [[{'name': 'x', 'qubits': [0]}], [{'name': 'y', 'qubits': [0]}], [{'name': 'z', 'qubits': [0]}], [{'name': 'x', 'qubits': [1]}], [{'name': 'x', 'qubits': [0]}, {'name': 'x', 'qubits': [1]}], [{'name': 'y', 'qubits': [0]}, {'name': 'x', 'qubits': [1]}], [{'name': 'z', 'qubits': [0]}, {'name': 'x', 'qubits': [1]}], [{'name': 'y', 'qubits': [1]}], [{'name': 'x', 'qubits': [0]}, {'name': 'y', 'qubits': [1]}], [{'name': 'y', 'qubits': [0]}, {'name': 'y', 'qubits': [1]}], [{'name': 'z', 'qubits': [0]}, {'name': 'y', 'qubits': [1]}], [{'name': 'z', 'qubits': [1]}], [{'name': 'x', 'qubits': [0]}, {'name': 'z', 'qubits': [1]}], [{'name': 'y', 'qubits': [0]}, {'name': 'z', 'qubits': [1]}], [{'name': 'z', 'qubits': [0]}, {'name': 'z', 'qubits': [1]}], [{'name': 'id', 'qubits': [0]}]], 'probabilities': [0.008364173324451293, 0.008364173324451293, 0.008364173324451293, 0.008364173324451293, 0.008364173324451293, 0.008364173324451293, 0.008364173324451293, 0.008364173324451293, 0.008364173324451293, 0.008364173324451293, 0.008364173324451293, 0.008364173324451293, 0.008364173324451293, 0.008364173324451293, 0.008364173324451293, 0.8745374001332307], 'gate_qubits': [[11, 12]]}, {'type': 'qerror', 'operations': ['cx'], 'instructions': [[{'name': 'kraus', 'qubits': [0, 1], 'params': [array([[0.99940188, 0.        , 0.        , 0.        ],\n",
      "       [0.        , 0.99382608, 0.        , 0.        ],\n",
      "       [0.        , 0.        , 0.99406306, 0.        ],\n",
      "       [0.        , 0.        , 0.        , 0.98851704]]), array([[-0.02845188, -0.        ,  0.        ,  0.        ],\n",
      "       [-0.        , -0.02829314,  0.        ,  0.        ],\n",
      "       [ 0.        ,  0.        ,  0.02860469,  0.        ],\n",
      "       [ 0.        ,  0.        ,  0.        ,  0.0284451 ]]), array([[0.        , 0.        , 0.10312151, 0.        ],\n",
      "       [0.        , 0.        , 0.        , 0.10254618],\n",
      "       [0.        , 0.        , 0.        , 0.        ],\n",
      "       [0.        , 0.        , 0.        , 0.        ]]), array([[-0.01964822,  0.        , -0.        ,  0.        ],\n",
      "       [ 0.        ,  0.01975845,  0.        ,  0.        ],\n",
      "       [-0.        ,  0.        , -0.01954326,  0.        ],\n",
      "       [ 0.        ,  0.        ,  0.        ,  0.0196529 ]]), array([[ 0.00055936, -0.        , -0.        ,  0.        ],\n",
      "       [-0.        , -0.0005625 ,  0.        ,  0.        ],\n",
      "       [-0.        ,  0.        , -0.00056237,  0.        ],\n",
      "       [ 0.        ,  0.        ,  0.        ,  0.00056552]]), array([[-0.        ,  0.        , -0.00202737,  0.        ],\n",
      "       [ 0.        ,  0.        ,  0.        ,  0.00203874],\n",
      "       [-0.        ,  0.        , -0.        ,  0.        ],\n",
      "       [ 0.        ,  0.        ,  0.        ,  0.        ]]), array([[0.        , 0.10540164, 0.        , 0.        ],\n",
      "       [0.        , 0.        , 0.        , 0.        ],\n",
      "       [0.        , 0.        , 0.        , 0.10483858],\n",
      "       [0.        , 0.        , 0.        , 0.        ]]), array([[-0.        , -0.00300067,  0.        ,  0.        ],\n",
      "       [-0.        , -0.        ,  0.        ,  0.        ],\n",
      "       [ 0.        ,  0.        ,  0.        ,  0.00301679],\n",
      "       [ 0.        ,  0.        ,  0.        ,  0.        ]]), array([[0.        , 0.        , 0.        , 0.01087568],\n",
      "       [0.        , 0.        , 0.        , 0.        ],\n",
      "       [0.        , 0.        , 0.        , 0.        ],\n",
      "       [0.        , 0.        , 0.        , 0.        ]])]}]], 'probabilities': [1], 'gate_qubits': [[12, 2]]}, {'type': 'qerror', 'operations': ['cx'], 'instructions': [[{'name': 'kraus', 'qubits': [0, 1], 'params': [array([[0.99627018, 0.        , 0.        , 0.        ],\n",
      "       [0.        , 0.95569927, 0.        , 0.        ],\n",
      "       [0.        , 0.        , 0.97448684, 0.        ],\n",
      "       [0.        , 0.        , 0.        , 0.93480301]]), array([[-0.06592117, -0.        ,  0.        ,  0.        ],\n",
      "       [-0.        , -0.06323668,  0.        ,  0.        ],\n",
      "       [ 0.        ,  0.        ,  0.06739475,  0.        ],\n",
      "       [ 0.        ,  0.        ,  0.        ,  0.06465025]]), array([[0.        , 0.        , 0.20672011, 0.        ],\n",
      "       [0.        , 0.        , 0.        , 0.19830189],\n",
      "       [0.        , 0.        , 0.        , 0.        ],\n",
      "       [0.        , 0.        , 0.        , 0.        ]]), array([[-0.05555739,  0.        , -0.        ,  0.        ],\n",
      "       [ 0.        ,  0.05791588,  0.        ,  0.        ],\n",
      "       [-0.        ,  0.        , -0.05434263,  0.        ],\n",
      "       [ 0.        ,  0.        ,  0.        ,  0.05664956]]), array([[ 0.00367612, -0.        , -0.        ,  0.        ],\n",
      "       [-0.        , -0.00383218,  0.        ,  0.        ],\n",
      "       [-0.        ,  0.        , -0.00375829,  0.        ],\n",
      "       [ 0.        ,  0.        ,  0.        ,  0.00391784]]), array([[-0.        ,  0.        , -0.01152783,  0.        ],\n",
      "       [ 0.        ,  0.        ,  0.        ,  0.0120172 ],\n",
      "       [-0.        ,  0.        , -0.        ,  0.        ],\n",
      "       [ 0.        ,  0.        ,  0.        ,  0.        ]]), array([[0.        , 0.28093691, 0.        , 0.        ],\n",
      "       [0.        , 0.        , 0.        , 0.        ],\n",
      "       [0.        , 0.        , 0.        , 0.27479426],\n",
      "       [0.        , 0.        , 0.        , 0.        ]]), array([[-0.        , -0.01858902,  0.        ,  0.        ],\n",
      "       [-0.        , -0.        ,  0.        ,  0.        ],\n",
      "       [ 0.        ,  0.        ,  0.        ,  0.01900456],\n",
      "       [ 0.        ,  0.        ,  0.        ,  0.        ]]), array([[0.        , 0.        , 0.        , 0.05829273],\n",
      "       [0.        , 0.        , 0.        , 0.        ],\n",
      "       [0.        , 0.        , 0.        , 0.        ],\n",
      "       [0.        , 0.        , 0.        , 0.        ]])]}]], 'probabilities': [1], 'gate_qubits': [[13, 1]]}, {'type': 'qerror', 'operations': ['cx'], 'instructions': [[{'name': 'kraus', 'qubits': [0, 1], 'params': [array([[0.99857658, 0.        , 0.        , 0.        ],\n",
      "       [0.        , 0.97169404, 0.        , 0.        ],\n",
      "       [0.        , 0.        , 0.98775753, 0.        ],\n",
      "       [0.        , 0.        , 0.        , 0.96116625]]), array([[-0.0272382 , -0.        ,  0.        ,  0.        ],\n",
      "       [-0.        , -0.02650492,  0.        ,  0.        ],\n",
      "       [ 0.        ,  0.        ,  0.02753654,  0.        ],\n",
      "       [ 0.        ,  0.        ,  0.        ,  0.02679523]]), array([[0.        , 0.        , 0.14653977, 0.        ],\n",
      "       [0.        , 0.        , 0.        , 0.1425948 ],\n",
      "       [0.        , 0.        , 0.        , 0.        ],\n",
      "       [0.        , 0.        , 0.        , 0.        ]]), array([[-0.04584037,  0.        , -0.        ,  0.        ],\n",
      "       [ 0.        ,  0.04710857,  0.        ,  0.        ],\n",
      "       [-0.        ,  0.        , -0.04534371,  0.        ],\n",
      "       [ 0.        ,  0.        ,  0.        ,  0.04659817]]), array([[ 0.00125039, -0.        , -0.        ,  0.        ],\n",
      "       [-0.        , -0.00128498,  0.        ,  0.        ],\n",
      "       [-0.        ,  0.        , -0.00126408,  0.        ],\n",
      "       [ 0.        ,  0.        ,  0.        ,  0.00129906]]), array([[-0.        ,  0.        , -0.00672701,  0.        ],\n",
      "       [ 0.        ,  0.        ,  0.        ,  0.00691312],\n",
      "       [-0.        ,  0.        , -0.        ,  0.        ],\n",
      "       [ 0.        ,  0.        ,  0.        ,  0.        ]]), array([[0.        , 0.22988689, 0.        , 0.        ],\n",
      "       [0.        , 0.        , 0.        , 0.        ],\n",
      "       [0.        , 0.        , 0.        , 0.22739619],\n",
      "       [0.        , 0.        , 0.        , 0.        ]]), array([[-0.        , -0.00627063,  0.        ,  0.        ],\n",
      "       [-0.        , -0.        ,  0.        ,  0.        ],\n",
      "       [ 0.        ,  0.        ,  0.        ,  0.00633931],\n",
      "       [ 0.        ,  0.        ,  0.        ,  0.        ]]), array([[0.        , 0.        , 0.        , 0.03373559],\n",
      "       [0.        , 0.        , 0.        , 0.        ],\n",
      "       [0.        , 0.        , 0.        , 0.        ],\n",
      "       [0.        , 0.        , 0.        , 0.        ]])]}]], 'probabilities': [1], 'gate_qubits': [[13, 12]]}, {'type': 'roerror', 'operations': ['measure'], 'probabilities': [[0.9763999999999999, 0.023600000000000065], [0.023600000000000065, 0.9763999999999999]], 'gate_qubits': [[0]]}, {'type': 'roerror', 'operations': ['measure'], 'probabilities': [[0.9139, 0.08609999999999995], [0.08609999999999995, 0.9139]], 'gate_qubits': [[1]]}, {'type': 'roerror', 'operations': ['measure'], 'probabilities': [[0.9596, 0.04039999999999999], [0.04039999999999999, 0.9596]], 'gate_qubits': [[2]]}, {'type': 'roerror', 'operations': ['measure'], 'probabilities': [[0.7713, 0.22870000000000001], [0.22870000000000001, 0.7713]], 'gate_qubits': [[3]]}, {'type': 'roerror', 'operations': ['measure'], 'probabilities': [[0.9734, 0.026599999999999957], [0.026599999999999957, 0.9734]], 'gate_qubits': [[4]]}, {'type': 'roerror', 'operations': ['measure'], 'probabilities': [[0.9521999999999999, 0.047800000000000065], [0.047800000000000065, 0.9521999999999999]], 'gate_qubits': [[5]]}, {'type': 'roerror', 'operations': ['measure'], 'probabilities': [[0.9131, 0.08689999999999998], [0.08689999999999998, 0.9131]], 'gate_qubits': [[6]]}, {'type': 'roerror', 'operations': ['measure'], 'probabilities': [[0.9225, 0.07750000000000001], [0.07750000000000001, 0.9225]], 'gate_qubits': [[7]]}, {'type': 'roerror', 'operations': ['measure'], 'probabilities': [[0.9525, 0.04749999999999999], [0.04749999999999999, 0.9525]], 'gate_qubits': [[8]]}, {'type': 'roerror', 'operations': ['measure'], 'probabilities': [[0.9005, 0.09950000000000003], [0.09950000000000003, 0.9005]], 'gate_qubits': [[9]]}, {'type': 'roerror', 'operations': ['measure'], 'probabilities': [[0.9477, 0.05230000000000001], [0.05230000000000001, 0.9477]], 'gate_qubits': [[10]]}, {'type': 'roerror', 'operations': ['measure'], 'probabilities': [[0.8865000000000001, 0.11349999999999993], [0.11349999999999993, 0.8865000000000001]], 'gate_qubits': [[11]]}, {'type': 'roerror', 'operations': ['measure'], 'probabilities': [[0.9609, 0.039100000000000024], [0.039100000000000024, 0.9609]], 'gate_qubits': [[12]]}, {'type': 'roerror', 'operations': ['measure'], 'probabilities': [[0.9542999999999999, 0.045700000000000074], [0.045700000000000074, 0.9542999999999999]], 'gate_qubits': [[13]]}], 'x90_gates': []}\n"
     ]
    }
   ],
   "source": [
    "print(noise_model.as_dict())"
   ]
  },
  {
   "cell_type": "code",
   "execution_count": null,
   "metadata": {
    "collapsed": true
   },
   "outputs": [],
   "source": []
  }
 ],
 "metadata": {
  "kernelspec": {
   "display_name": "Python 3",
   "language": "python",
   "name": "python3"
  },
  "language_info": {
   "codemirror_mode": {
    "name": "ipython",
    "version": 3
   },
   "file_extension": ".py",
   "mimetype": "text/x-python",
   "name": "python",
   "nbconvert_exporter": "python",
   "pygments_lexer": "ipython3",
   "version": "3.7.3"
  },
  "varInspector": {
   "cols": {
    "lenName": 16,
    "lenType": 16,
    "lenVar": 40
   },
   "kernels_config": {
    "python": {
     "delete_cmd_postfix": "",
     "delete_cmd_prefix": "del ",
     "library": "var_list.py",
     "varRefreshCmd": "print(var_dic_list())"
    },
    "r": {
     "delete_cmd_postfix": ") ",
     "delete_cmd_prefix": "rm(",
     "library": "var_list.r",
     "varRefreshCmd": "cat(var_dic_list()) "
    }
   },
   "types_to_exclude": [
    "module",
    "function",
    "builtin_function_or_method",
    "instance",
    "_Feature"
   ],
   "window_display": false
  }
 },
 "nbformat": 4,
 "nbformat_minor": 2
}

{
 "cells": [
  {
   "cell_type": "code",
   "execution_count": 1,
   "metadata": {
    "ExecuteTime": {
     "end_time": "2019-08-26T20:58:11.518093Z",
     "start_time": "2019-08-26T20:58:04.242114Z"
    }
   },
   "outputs": [],
   "source": [
    "import numpy as np\n",
    "import matplotlib.pyplot as plt\n",
    "from pprint import pprint as pp\n",
    "\n",
    "from qiskit import *\n",
    "from qiskit import qobj as qiskit_qobj\n",
    "from qiskit.providers import BaseBackend, BaseJob, BaseProvider\n",
    "from qiskit.providers.aer import QasmSimulator, StatevectorSimulator, UnitarySimulator\n",
    "from qiskit.providers.models import BackendConfiguration\n",
    "from qiskit.providers.models.backendconfiguration import GateConfig\n",
    "from qiskit.providers.providerutils import filter_backends\n",
    "from qiskit.transpiler import PassManager\n",
    "from qiskit.result import Result\n",
    "from qiskit.tools.monitor import job_monitor\n",
    "from qiskit.transpiler import PassManager\n",
    "from qiskit.visualization import plot_histogram, plot_gate_map, plot_circuit_layout, plot_state_city\n"
   ]
  },
  {
   "cell_type": "code",
   "execution_count": 2,
   "metadata": {
    "ExecuteTime": {
     "end_time": "2019-08-26T20:58:15.669118Z",
     "start_time": "2019-08-26T20:58:11.521054Z"
    }
   },
   "outputs": [
    {
     "data": {
      "text/plain": [
       "[GateConfig(coupling_map=[[0], [1], [2], [3], [4], [5], [6], [7], [8], [9], [10], [11], [12], [13]], name='id', parameters=[], qasm_def='gate id q { U(0,0,0) q; }'),\n",
       " GateConfig(coupling_map=[[0], [1], [2], [3], [4], [5], [6], [7], [8], [9], [10], [11], [12], [13]], name='u1', parameters=['lambda'], qasm_def='gate u1(lambda) q { U(0,0,lambda) q; }'),\n",
       " GateConfig(coupling_map=[[0], [1], [2], [3], [4], [5], [6], [7], [8], [9], [10], [11], [12], [13]], name='u2', parameters=['phi', 'lambda'], qasm_def='gate u2(phi,lambda) q { U(pi/2,phi,lambda) q; }'),\n",
       " GateConfig(coupling_map=[[0], [1], [2], [3], [4], [5], [6], [7], [8], [9], [10], [11], [12], [13]], name='u3', parameters=['theta', 'phi', 'lambda'], qasm_def='u3(theta,phi,lambda) q { U(theta,phi,lambda) q; }'),\n",
       " GateConfig(coupling_map=[[1, 0], [1, 2], [2, 3], [4, 3], [4, 10], [5, 4], [5, 6], [5, 9], [6, 8], [7, 8], [9, 8], [9, 10], [11, 3], [11, 10], [11, 12], [12, 2], [13, 1], [13, 12]], name='cx', parameters=[], qasm_def='gate cx q1,q2 { CX q1,q2; }')]"
      ]
     },
     "execution_count": 2,
     "metadata": {},
     "output_type": "execute_result"
    }
   ],
   "source": [
    "tmp=IBMQ.load_account().get_backend('ibmq_16_melbourne').configuration()\n",
    "\n",
    "tmp.gates\n"
   ]
  },
  {
   "cell_type": "code",
   "execution_count": 3,
   "metadata": {
    "ExecuteTime": {
     "end_time": "2019-08-26T20:58:15.983436Z",
     "start_time": "2019-08-26T20:58:15.670081Z"
    }
   },
   "outputs": [
    {
     "ename": "ModelValidationError",
     "evalue": "{'gates': {0: {}, '_schema': ['Invalid input type.', 'Invalid input type.', 'Invalid input type.', 'Invalid input type.', 'Invalid input type.'], 1: {}, 2: {}, 3: {}, 4: {}}}",
     "output_type": "error",
     "traceback": [
      "\u001b[1;31m---------------------------------------------------------------------------\u001b[0m",
      "\u001b[1;31mModelValidationError\u001b[0m                      Traceback (most recent call last)",
      "\u001b[1;32m<ipython-input-3-c6a9e3743b18>\u001b[0m in \u001b[0;36m<module>\u001b[1;34m\u001b[0m\n\u001b[0;32m    130\u001b[0m \u001b[1;33m\u001b[0m\u001b[0m\n\u001b[0;32m    131\u001b[0m \u001b[1;33m\u001b[0m\u001b[0m\n\u001b[1;32m--> 132\u001b[1;33m \u001b[0mprovider\u001b[0m \u001b[1;33m=\u001b[0m \u001b[0mOpenSuperQ_Provider\u001b[0m\u001b[1;33m(\u001b[0m\u001b[1;33m)\u001b[0m\u001b[1;33m\u001b[0m\u001b[1;33m\u001b[0m\u001b[0m\n\u001b[0m\u001b[0;32m    133\u001b[0m \u001b[1;33m\u001b[0m\u001b[0m\n\u001b[0;32m    134\u001b[0m job = execute(qc, provider.get_backend('OSQ_ETH7_rev1'), \n",
      "\u001b[1;32m<ipython-input-3-c6a9e3743b18>\u001b[0m in \u001b[0;36m__init__\u001b[1;34m(self, *args, **kwargs)\u001b[0m\n\u001b[0;32m    109\u001b[0m \u001b[1;33m\u001b[0m\u001b[0m\n\u001b[0;32m    110\u001b[0m         \u001b[1;31m# Populate the list of Hadamard backends\u001b[0m\u001b[1;33m\u001b[0m\u001b[1;33m\u001b[0m\u001b[1;33m\u001b[0m\u001b[0m\n\u001b[1;32m--> 111\u001b[1;33m         \u001b[0mself\u001b[0m\u001b[1;33m.\u001b[0m\u001b[0m_backends\u001b[0m \u001b[1;33m=\u001b[0m \u001b[1;33m[\u001b[0m\u001b[0mETH_7_rev_1_Backend\u001b[0m\u001b[1;33m(\u001b[0m\u001b[0mprovider\u001b[0m\u001b[1;33m=\u001b[0m\u001b[0mself\u001b[0m\u001b[1;33m)\u001b[0m\u001b[1;33m]\u001b[0m\u001b[1;33m\u001b[0m\u001b[1;33m\u001b[0m\u001b[0m\n\u001b[0m\u001b[0;32m    112\u001b[0m \u001b[1;33m\u001b[0m\u001b[0m\n\u001b[0;32m    113\u001b[0m     \u001b[1;32mdef\u001b[0m \u001b[0mbackends\u001b[0m\u001b[1;33m(\u001b[0m\u001b[0mself\u001b[0m\u001b[1;33m,\u001b[0m \u001b[0mname\u001b[0m\u001b[1;33m=\u001b[0m\u001b[1;32mNone\u001b[0m\u001b[1;33m,\u001b[0m \u001b[0mfilters\u001b[0m\u001b[1;33m=\u001b[0m\u001b[1;32mNone\u001b[0m\u001b[1;33m,\u001b[0m \u001b[1;33m**\u001b[0m\u001b[0mkwargs\u001b[0m\u001b[1;33m)\u001b[0m\u001b[1;33m:\u001b[0m\u001b[1;33m\u001b[0m\u001b[1;33m\u001b[0m\u001b[0m\n",
      "\u001b[1;32m<ipython-input-3-c6a9e3743b18>\u001b[0m in \u001b[0;36m__init__\u001b[1;34m(self, provider)\u001b[0m\n\u001b[0;32m     68\u001b[0m \u001b[1;33m\u001b[0m\u001b[0m\n\u001b[0;32m     69\u001b[0m \u001b[1;33m\u001b[0m\u001b[0m\n\u001b[1;32m---> 70\u001b[1;33m         super().__init__(configuration=BackendConfiguration.from_dict(configuration),\n\u001b[0m\u001b[0;32m     71\u001b[0m                          provider=provider)\n\u001b[0;32m     72\u001b[0m \u001b[1;33m\u001b[0m\u001b[0m\n",
      "\u001b[1;32mc:\\program files\\python37\\lib\\site-packages\\qiskit\\validation\\base.py\u001b[0m in \u001b[0;36mfrom_dict\u001b[1;34m(cls, dict_)\u001b[0m\n\u001b[0;32m    351\u001b[0m         \u001b[1;32mexcept\u001b[0m \u001b[0mValidationError\u001b[0m \u001b[1;32mas\u001b[0m \u001b[0mex\u001b[0m\u001b[1;33m:\u001b[0m\u001b[1;33m\u001b[0m\u001b[1;33m\u001b[0m\u001b[0m\n\u001b[0;32m    352\u001b[0m             raise ModelValidationError(\n\u001b[1;32m--> 353\u001b[1;33m                 ex.messages, ex.field_names, ex.fields, ex.data, **ex.kwargs) from None\n\u001b[0m\u001b[0;32m    354\u001b[0m \u001b[1;33m\u001b[0m\u001b[0m\n\u001b[0;32m    355\u001b[0m         \u001b[1;32mreturn\u001b[0m \u001b[0mdata\u001b[0m\u001b[1;33m\u001b[0m\u001b[1;33m\u001b[0m\u001b[0m\n",
      "\u001b[1;31mModelValidationError\u001b[0m: {'gates': {0: {}, '_schema': ['Invalid input type.', 'Invalid input type.', 'Invalid input type.', 'Invalid input type.', 'Invalid input type.'], 1: {}, 2: {}, 3: {}, 4: {}}}"
     ]
    }
   ],
   "source": [
    "class OpenSuperQ_Job(BaseJob):\n",
    "    def __init__(self, backend):\n",
    "        super().__init__(backend, 1)\n",
    "        \n",
    "    def result(self):\n",
    "        return self._result\n",
    "    \n",
    "    def cancel(self):\n",
    "        pass\n",
    "    \n",
    "    def status(self):\n",
    "        pass\n",
    "    \n",
    "    def submit(self):\n",
    "        pass\n",
    "    \n",
    "class ETH_7_rev_1_Backend(BaseBackend):\n",
    "    '''\n",
    "    A wrapper backend for the ETH 7 rev 1 chip\n",
    "    '''\n",
    "\n",
    "    def __init__(self, provider=None):\n",
    "        configuration = {\n",
    "            'backend_name':     'OSQ_ETH7_rev1',\n",
    "            'description':      'OpenSuperQ ETH 7 qubit chip, rev. 1, 12_15702', \n",
    "            'backend_version':  '0.1.0',\n",
    "            'url':              'http://opensuperq.eu/',\n",
    "            'sample_name':      'QUDEV_M_12_15702', \n",
    "            'n_qubits':         7, \n",
    "            'basis_gates':      ['u1', 'u2', 'u3', 'cx', 'id'], \n",
    "            'coupling_map':     [[0,2],[0,3], [1,3],[1,4], [2,5], [3,5],[3,6], [4,6]], # Reduced qubit numbers by 1 compared to 20190823_OSQ_Waypoint1_experimental_parameters.pdf\n",
    "            'simulator':        True, \n",
    "            'local':            True, \n",
    "            'open_pulse':       False, \n",
    "            'conditional':      False, \n",
    "            'n_registers':      1,   # Really 0, but QISKIT would not allow it, even if 'conditional' is False\n",
    "            'max_shots':        1_000_000,\n",
    "            'memory':           0,\n",
    "            'credits_required': False, \n",
    "            'gates': [\n",
    "                GateConfig(\n",
    "                    name         = 'id', \n",
    "                    parameters   = [], \n",
    "                    coupling_map = [[0], [1], [2], [3], [4], [5], [6]], \n",
    "                    qasm_def     = 'gate id q { U(0,0,0) q; }'), \n",
    "                GateConfig(\n",
    "                    name         = 'u1', \n",
    "                    parameters   = ['lambda'], \n",
    "                    coupling_map = [[0], [1], [2], [3], [4], [5], [6]], \n",
    "                    qasm_def     = 'gate u1(lambda) q { U(0,0,lambda) q; }'), \n",
    "                GateConfig(\n",
    "                    name         = 'u2',\n",
    "                    parameters   = ['phi', 'lambda'],  \n",
    "                    coupling_map = [[0], [1], [2], [3], [4], [5], [6]], \n",
    "                    qasm_def     = 'gate u2(phi,lambda) q { U(pi/2,phi,lambda) q; }'), \n",
    "                GateConfig(\n",
    "                    name         = 'u3',\n",
    "                    parameters   = ['theta', 'phi', 'lambda'], \n",
    "                    coupling_map = [[0], [1], [2], [3], [4], [5], [6]],\n",
    "                    qasm_def     = 'u3(theta,phi,lambda) q { U(theta,phi,lambda) q; }'), \n",
    "                GateConfig(\n",
    "                    name         = 'cx',\n",
    "                    parameters   = [],\n",
    "                    coupling_map = [[0,2],[0,3], [1,3],[1,4], [2,5], [3,5],[3,6], [4,6]],\n",
    "                    qasm_def     = 'gate cx q1,q2 { CX q1,q2; }')\n",
    "            ]\n",
    "        }\n",
    "                \n",
    "       \n",
    "        super().__init__(configuration=BackendConfiguration.from_dict(configuration),\n",
    "                         provider=provider)\n",
    "        \n",
    "        self.aer_simulator = Aer.get_backend('qasm_simulator')\n",
    "\n",
    "\n",
    "    def run(self, qobj):\n",
    "        \"\"\"Run qobj\n",
    "\n",
    "        Args:\n",
    "            qobj (QObj): circuit description\n",
    "\n",
    "        Returns:\n",
    "            OpenSuperQ_Job: derived from BaseJob\n",
    "        \"\"\"\n",
    "        \n",
    "        # Execute and get counts\n",
    "        simulation_results = execute(qobj, self.aer_simulator).result()\n",
    "\n",
    "        job = OpenSuperQ_Job(None)\n",
    "            \n",
    "        config = self.configuration()\n",
    "        job._result = Result.from_dict({\n",
    "            'results':         simulation_results,\n",
    "            'backend_name':    config.backend_name,\n",
    "            'backend_version': config.backend_version,\n",
    "            'qobj_id':         '0',\n",
    "            'job_id':          '0',\n",
    "            'success':         True\n",
    "        })\n",
    "        \n",
    "        return job\n",
    "    \n",
    "\n",
    "class OpenSuperQ_Provider(BaseProvider):\n",
    "    \"\"\"Provider for the Hadamard backend\"\"\"\n",
    "\n",
    "    def __init__(self, *args, **kwargs):\n",
    "        super().__init__(args, kwargs)\n",
    "\n",
    "        # Populate the list of Hadamard backends\n",
    "        self._backends = [ETH_7_rev_1_Backend(provider=self)]\n",
    "\n",
    "    def backends(self, name=None, filters=None, **kwargs):\n",
    "        # pylint: disable=arguments-differ\n",
    "        backends = self._backends\n",
    "        if name:\n",
    "            backends = [backend for backend in backends if backend.name() == name]\n",
    "\n",
    "        return filter_backends(backends, filters=filters, **kwargs)\n",
    "\n",
    "\n",
    "qreg = QuantumRegister(4)\n",
    "creg = ClassicalRegister(4)\n",
    "qc = QuantumCircuit(qreg, creg)\n",
    "qc.h(qreg[3])\n",
    "qc.h(qreg[1])\n",
    "qc.h(qreg[3])\n",
    "qc.h(qreg[2])\n",
    "qc.measure(qreg, creg)\n",
    "\n",
    "\n",
    "provider = OpenSuperQ_Provider()\n",
    "\n",
    "job = execute(qc, provider.get_backend('OSQ_ETH7_rev1'), \n",
    "                           pass_manager=PassManager(), shots=1024)\n",
    "results = job.result()\n",
    "\n",
    "print(results.get_counts(qc))\n"
   ]
  },
  {
   "cell_type": "code",
   "execution_count": null,
   "metadata": {
    "ExecuteTime": {
     "end_time": "2019-08-26T20:58:15.985422Z",
     "start_time": "2019-08-26T20:58:04.259Z"
    }
   },
   "outputs": [],
   "source": [
    "import qiskit.tools.jupyter\n",
    "%qiskit_version_table"
   ]
  }
 ],
 "metadata": {
  "anaconda-cloud": {},
  "kernelspec": {
   "display_name": "Python 3",
   "language": "python",
   "name": "python3"
  },
  "language_info": {
   "codemirror_mode": {
    "name": "ipython",
    "version": 3
   },
   "file_extension": ".py",
   "mimetype": "text/x-python",
   "name": "python",
   "nbconvert_exporter": "python",
   "pygments_lexer": "ipython3",
   "version": "3.7.2"
  },
  "latex_envs": {
   "LaTeX_envs_menu_present": true,
   "autoclose": false,
   "autocomplete": true,
   "bibliofile": "biblio.bib",
   "cite_by": "apalike",
   "current_citInitial": 1,
   "eqLabelWithNumbers": true,
   "eqNumInitial": 1,
   "hotkeys": {
    "equation": "Ctrl-E",
    "itemize": "Ctrl-I"
   },
   "labels_anchors": false,
   "latex_user_defs": false,
   "report_style_numbering": false,
   "user_envs_cfg": false
  },
  "toc": {
   "base_numbering": 1,
   "nav_menu": {},
   "number_sections": true,
   "sideBar": true,
   "skip_h1_title": false,
   "title_cell": "Table of Contents",
   "title_sidebar": "Contents",
   "toc_cell": false,
   "toc_position": {},
   "toc_section_display": true,
   "toc_window_display": false
  },
  "varInspector": {
   "cols": {
    "lenName": 16,
    "lenType": 16,
    "lenVar": 40
   },
   "kernels_config": {
    "python": {
     "delete_cmd_postfix": "",
     "delete_cmd_prefix": "del ",
     "library": "var_list.py",
     "varRefreshCmd": "print(var_dic_list())"
    },
    "r": {
     "delete_cmd_postfix": ") ",
     "delete_cmd_prefix": "rm(",
     "library": "var_list.r",
     "varRefreshCmd": "cat(var_dic_list()) "
    }
   },
   "types_to_exclude": [
    "module",
    "function",
    "builtin_function_or_method",
    "instance",
    "_Feature"
   ],
   "window_display": false
  }
 },
 "nbformat": 4,
 "nbformat_minor": 1
}
